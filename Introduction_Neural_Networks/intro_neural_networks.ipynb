{
 "cells": [
  {
   "cell_type": "markdown",
   "metadata": {},
   "source": [
    "# Introduction to neural networks and deep learning\n",
    "\n",
    "**Date:** 5th of March 2020 <br>\n",
    "**Author:** Joan Térmens Cascalló\n",
    "\n",
    "Here you could found two introductory exercices to the machine and deep learning methods. Based on [Hello world of Neural Network(for dummies)](https://www.kaggle.com/mobassir/hello-world-of-neural-network-for-dummies) and [Basic classification: Classify images of clothing](https://www.tensorflow.org/tutorials/keras/classification), respectively.\n",
    "\n",
    "For some theoretical introduction look at:\n",
    "\n",
    "* [Machine learning](https://en.wikipedia.org/wiki/Machine_learning) and [Deep learning](https://en.wikipedia.org/wiki/Deep_learning).\n",
    "\n",
    "* or at [3Blue1Brown videos](https://www.youtube.com/watch?v=aircAruvnKk&list=PLZHQObOWTQDNU6R1_67000Dx_ZCJB-3pi) on the field.\n",
    "\n",
    "First of all, import the needed libraries"
   ]
  },
  {
   "cell_type": "code",
   "execution_count": 1,
   "metadata": {},
   "outputs": [
    {
     "name": "stdout",
     "output_type": "stream",
     "text": [
      "TensorFlow version: 2.1.0\n"
     ]
    }
   ],
   "source": [
    "import numpy as np # linear algebra\n",
    "import pandas as pd # data procesing and dataframes\n",
    "import matplotlib.pyplot as plt # basic plotting\n",
    "\n",
    "# libraries for the neural networks and machine learning\n",
    "from tensorflow import keras\n",
    "import tensorflow as tf\n",
    "\n",
    "# TensorFlow version\n",
    "print(\"TensorFlow version: {}\".format(tf.__version__))"
   ]
  },
  {
   "cell_type": "markdown",
   "metadata": {},
   "source": [
    "## 1. Simple exercice in neural networks\n",
    "\n",
    "Define the training set (will be used to the *learning* process). As a simple example, we will use two 1-dim arrays, $x$ and $y$, such that:\n",
    "\n",
    "$$y(x) = 2x -1$$"
   ]
  },
  {
   "cell_type": "code",
   "execution_count": 2,
   "metadata": {},
   "outputs": [
    {
     "data": {
      "image/png": "[encoded data removed]",
      "text/plain": [
       "<Figure size 432x288 with 1 Axes>"
      ]
     },
     "metadata": {
      "needs_background": "light"
     },
     "output_type": "display_data"
    }
   ],
   "source": [
    "x = np.linspace(-1.0, 4.0, 6, endpoint=True)\n",
    "y = np.array([2*x-1 for x in x], dtype=float)\n",
    "\n",
    "# let's plot them\n",
    "\n",
    "plt.plot(x,y)\n",
    "plt.title('Visualizing y(x)')\n",
    "plt.ylabel('y(x)')\n",
    "plt.xlabel('x')\n",
    "plt.show()"
   ]
  },
  {
   "cell_type": "markdown",
   "metadata": {},
   "source": [
    "We define a simple neural network with just a single unit, as we have a simple 1-dim array `x` as the input. We use `sgd` optimizer and the `mean_squared_error` function to compute the loss function. For more info, [Keras optimizer](https://keras.io/optimizers/) and [Keras losses](https://keras.io/losses/)."
   ]
  },
  {
   "cell_type": "code",
   "execution_count": 3,
   "metadata": {},
   "outputs": [],
   "source": [
    "network_struct = keras.layers.Dense(units =1, input_shape=[1])\n",
    "model = keras.Sequential([network_struct])\n",
    "model.compile(optimizer = 'sgd', loss = 'mean_squared_error')"
   ]
  },
  {
   "cell_type": "markdown",
   "metadata": {},
   "source": [
    "Now we are going to tell our neural network(defined above) to learn `x` to `y` mapping for 100 epochs. An epoch is a single step in training a neural network. For each epoch the entire dataset is passed forward and backward through the neural network once. As the number of epochs increases, the neural network weights are iteratibly changed and the loss function curve goes from underfitting to optimal to overfitting. To learn more about this process, look [here](https://towardsdatascience.com/epoch-vs-iterations-vs-batch-size-4dfb9c7ce9c9)."
   ]
  },
  {
   "cell_type": "code",
   "execution_count": 4,
   "metadata": {},
   "outputs": [
    {
     "name": "stdout",
     "output_type": "stream",
     "text": [
      "Train on 6 samples\n",
      "Epoch 1/100\n",
      "6/6 [==============================] - 0s 28ms/sample - loss: 53.0391\n",
      "Epoch 2/100\n",
      "6/6 [==============================] - 0s 218us/sample - loss: 42.1341\n",
      "Epoch 3/100\n",
      "6/6 [==============================] - 0s 255us/sample - loss: 33.5463\n",
      "Epoch 4/100\n",
      "6/6 [==============================] - 0s 258us/sample - loss: 26.7816\n",
      "Epoch 5/100\n",
      "6/6 [==============================] - 0s 251us/sample - loss: 21.4516\n",
      "Epoch 6/100\n",
      "6/6 [==============================] - 0s 287us/sample - loss: 17.2503\n",
      "Epoch 7/100\n",
      "6/6 [==============================] - 0s 436us/sample - loss: 13.9373\n",
      "Epoch 8/100\n",
      "6/6 [==============================] - 0s 458us/sample - loss: 11.3232\n",
      "Epoch 9/100\n",
      "6/6 [==============================] - 0s 259us/sample - loss: 9.2593\n",
      "Epoch 10/100\n",
      "6/6 [==============================] - 0s 566us/sample - loss: 7.6282\n",
      "Epoch 11/100\n",
      "6/6 [==============================] - 0s 241us/sample - loss: 6.3380\n",
      "Epoch 12/100\n",
      "6/6 [==============================] - 0s 251us/sample - loss: 5.3159\n",
      "Epoch 13/100\n",
      "6/6 [==============================] - 0s 247us/sample - loss: 4.5051\n",
      "Epoch 14/100\n",
      "6/6 [==============================] - 0s 340us/sample - loss: 3.8605\n",
      "Epoch 15/100\n",
      "6/6 [==============================] - 0s 335us/sample - loss: 3.3469\n",
      "Epoch 16/100\n",
      "6/6 [==============================] - 0s 323us/sample - loss: 2.9365\n",
      "Epoch 17/100\n",
      "6/6 [==============================] - 0s 316us/sample - loss: 2.6073\n",
      "Epoch 18/100\n",
      "6/6 [==============================] - 0s 274us/sample - loss: 2.3423\n",
      "Epoch 19/100\n",
      "6/6 [==============================] - 0s 247us/sample - loss: 2.1277\n",
      "Epoch 20/100\n",
      "6/6 [==============================] - 0s 369us/sample - loss: 1.9531\n",
      "Epoch 21/100\n",
      "6/6 [==============================] - 0s 303us/sample - loss: 1.8100\n",
      "Epoch 22/100\n",
      "6/6 [==============================] - 0s 286us/sample - loss: 1.6918\n",
      "Epoch 23/100\n",
      "6/6 [==============================] - 0s 295us/sample - loss: 1.5933\n",
      "Epoch 24/100\n",
      "6/6 [==============================] - 0s 541us/sample - loss: 1.5104\n",
      "Epoch 25/100\n",
      "6/6 [==============================] - 0s 407us/sample - loss: 1.4399\n",
      "Epoch 26/100\n",
      "6/6 [==============================] - 0s 326us/sample - loss: 1.3793\n",
      "Epoch 27/100\n",
      "6/6 [==============================] - 0s 302us/sample - loss: 1.3265\n",
      "Epoch 28/100\n",
      "6/6 [==============================] - 0s 316us/sample - loss: 1.2801\n",
      "Epoch 29/100\n",
      "6/6 [==============================] - 0s 282us/sample - loss: 1.2387\n",
      "Epoch 30/100\n",
      "6/6 [==============================] - 0s 249us/sample - loss: 1.2013\n",
      "Epoch 31/100\n",
      "6/6 [==============================] - 0s 520us/sample - loss: 1.1673\n",
      "Epoch 32/100\n",
      "6/6 [==============================] - 0s 305us/sample - loss: 1.1359\n",
      "Epoch 33/100\n",
      "6/6 [==============================] - 0s 334us/sample - loss: 1.1068\n",
      "Epoch 34/100\n",
      "6/6 [==============================] - 0s 330us/sample - loss: 1.0795\n",
      "Epoch 35/100\n",
      "6/6 [==============================] - 0s 280us/sample - loss: 1.0538\n",
      "Epoch 36/100\n",
      "6/6 [==============================] - 0s 248us/sample - loss: 1.0293\n",
      "Epoch 37/100\n",
      "6/6 [==============================] - 0s 336us/sample - loss: 1.0059\n",
      "Epoch 38/100\n",
      "6/6 [==============================] - 0s 309us/sample - loss: 0.9835\n",
      "Epoch 39/100\n",
      "6/6 [==============================] - 0s 268us/sample - loss: 0.9620\n",
      "Epoch 40/100\n",
      "6/6 [==============================] - 0s 293us/sample - loss: 0.9411\n",
      "Epoch 41/100\n",
      "6/6 [==============================] - 0s 313us/sample - loss: 0.9209\n",
      "Epoch 42/100\n",
      "6/6 [==============================] - 0s 296us/sample - loss: 0.9014\n",
      "Epoch 43/100\n",
      "6/6 [==============================] - 0s 295us/sample - loss: 0.8823\n",
      "Epoch 44/100\n",
      "6/6 [==============================] - 0s 314us/sample - loss: 0.8638\n",
      "Epoch 45/100\n",
      "6/6 [==============================] - 0s 318us/sample - loss: 0.8457\n",
      "Epoch 46/100\n",
      "6/6 [==============================] - 0s 339us/sample - loss: 0.8281\n",
      "Epoch 47/100\n",
      "6/6 [==============================] - 0s 383us/sample - loss: 0.8109\n",
      "Epoch 48/100\n",
      "6/6 [==============================] - 0s 282us/sample - loss: 0.7941\n",
      "Epoch 49/100\n",
      "6/6 [==============================] - 0s 387us/sample - loss: 0.7776\n",
      "Epoch 50/100\n",
      "6/6 [==============================] - 0s 338us/sample - loss: 0.7615\n",
      "Epoch 51/100\n",
      "6/6 [==============================] - 0s 265us/sample - loss: 0.7458\n",
      "Epoch 52/100\n",
      "6/6 [==============================] - 0s 261us/sample - loss: 0.7304\n",
      "Epoch 53/100\n",
      "6/6 [==============================] - 0s 305us/sample - loss: 0.7154\n",
      "Epoch 54/100\n",
      "6/6 [==============================] - 0s 416us/sample - loss: 0.7007\n",
      "Epoch 55/100\n",
      "6/6 [==============================] - 0s 347us/sample - loss: 0.6862\n",
      "Epoch 56/100\n",
      "6/6 [==============================] - 0s 387us/sample - loss: 0.6721\n",
      "Epoch 57/100\n",
      "6/6 [==============================] - 0s 279us/sample - loss: 0.6583\n",
      "Epoch 58/100\n",
      "6/6 [==============================] - 0s 269us/sample - loss: 0.6448\n",
      "Epoch 59/100\n",
      "6/6 [==============================] - 0s 268us/sample - loss: 0.6315\n",
      "Epoch 60/100\n",
      "6/6 [==============================] - 0s 292us/sample - loss: 0.6185\n",
      "Epoch 61/100\n",
      "6/6 [==============================] - 0s 283us/sample - loss: 0.6058\n",
      "Epoch 62/100\n",
      "6/6 [==============================] - 0s 356us/sample - loss: 0.5934\n",
      "Epoch 63/100\n",
      "6/6 [==============================] - 0s 568us/sample - loss: 0.5812\n",
      "Epoch 64/100\n",
      "6/6 [==============================] - 0s 586us/sample - loss: 0.5692\n",
      "Epoch 65/100\n",
      "6/6 [==============================] - 0s 556us/sample - loss: 0.5575\n",
      "Epoch 66/100\n",
      "6/6 [==============================] - 0s 317us/sample - loss: 0.5461\n",
      "Epoch 67/100\n",
      "6/6 [==============================] - 0s 292us/sample - loss: 0.5349\n",
      "Epoch 68/100\n",
      "6/6 [==============================] - 0s 278us/sample - loss: 0.5239\n",
      "Epoch 69/100\n",
      "6/6 [==============================] - 0s 305us/sample - loss: 0.5131\n",
      "Epoch 70/100\n",
      "6/6 [==============================] - 0s 253us/sample - loss: 0.5026\n",
      "Epoch 71/100\n",
      "6/6 [==============================] - 0s 263us/sample - loss: 0.4922\n",
      "Epoch 72/100\n",
      "6/6 [==============================] - 0s 290us/sample - loss: 0.4821\n",
      "Epoch 73/100\n",
      "6/6 [==============================] - 0s 274us/sample - loss: 0.4722\n",
      "Epoch 74/100\n",
      "6/6 [==============================] - 0s 521us/sample - loss: 0.4625\n",
      "Epoch 75/100\n",
      "6/6 [==============================] - 0s 273us/sample - loss: 0.4530\n",
      "Epoch 76/100\n",
      "6/6 [==============================] - 0s 269us/sample - loss: 0.4437\n",
      "Epoch 77/100\n",
      "6/6 [==============================] - 0s 314us/sample - loss: 0.4346\n",
      "Epoch 78/100\n",
      "6/6 [==============================] - 0s 288us/sample - loss: 0.4257\n",
      "Epoch 79/100\n",
      "6/6 [==============================] - 0s 333us/sample - loss: 0.4169\n",
      "Epoch 80/100\n",
      "6/6 [==============================] - 0s 336us/sample - loss: 0.4084\n",
      "Epoch 81/100\n",
      "6/6 [==============================] - 0s 275us/sample - loss: 0.4000\n",
      "Epoch 82/100\n",
      "6/6 [==============================] - 0s 516us/sample - loss: 0.3918\n",
      "Epoch 83/100\n",
      "6/6 [==============================] - 0s 294us/sample - loss: 0.3837\n",
      "Epoch 84/100\n",
      "6/6 [==============================] - 0s 296us/sample - loss: 0.3758\n",
      "Epoch 85/100\n",
      "6/6 [==============================] - 0s 342us/sample - loss: 0.3681\n",
      "Epoch 86/100\n",
      "6/6 [==============================] - 0s 525us/sample - loss: 0.3606\n",
      "Epoch 87/100\n",
      "6/6 [==============================] - 0s 348us/sample - loss: 0.3532\n",
      "Epoch 88/100\n",
      "6/6 [==============================] - 0s 299us/sample - loss: 0.3459\n",
      "Epoch 89/100\n",
      "6/6 [==============================] - 0s 279us/sample - loss: 0.3388\n",
      "Epoch 90/100\n",
      "6/6 [==============================] - 0s 278us/sample - loss: 0.3318\n",
      "Epoch 91/100\n",
      "6/6 [==============================] - 0s 321us/sample - loss: 0.3250\n",
      "Epoch 92/100\n",
      "6/6 [==============================] - 0s 355us/sample - loss: 0.3183\n",
      "Epoch 93/100\n",
      "6/6 [==============================] - 0s 280us/sample - loss: 0.3118\n",
      "Epoch 94/100\n",
      "6/6 [==============================] - 0s 329us/sample - loss: 0.3054\n",
      "Epoch 95/100\n",
      "6/6 [==============================] - 0s 282us/sample - loss: 0.2991\n",
      "Epoch 96/100\n",
      "6/6 [==============================] - 0s 411us/sample - loss: 0.2930\n",
      "Epoch 97/100\n",
      "6/6 [==============================] - 0s 373us/sample - loss: 0.2870\n",
      "Epoch 98/100\n",
      "6/6 [==============================] - 0s 272us/sample - loss: 0.2811\n",
      "Epoch 99/100\n",
      "6/6 [==============================] - 0s 265us/sample - loss: 0.2753\n"
     ]
    },
    {
     "name": "stdout",
     "output_type": "stream",
     "text": [
      "Epoch 100/100\n",
      "6/6 [==============================] - 0s 259us/sample - loss: 0.2696\n"
     ]
    }
   ],
   "source": [
    "training = model.fit(x,y, epochs = 100)"
   ]
  },
  {
   "cell_type": "markdown",
   "metadata": {},
   "source": [
    "Now the model is trained, so we can ask it to predict the corresponding `y` value for a `x` input and check its accuracy."
   ]
  },
  {
   "cell_type": "code",
   "execution_count": 5,
   "metadata": {},
   "outputs": [
    {
     "name": "stdout",
     "output_type": "stream",
     "text": [
      "Predicted answer:  [[17.484802]]\n"
     ]
    }
   ],
   "source": [
    "print('Predicted answer: ', model.predict([10.0]))"
   ]
  },
  {
   "cell_type": "markdown",
   "metadata": {},
   "source": [
    "The model predicts `y(x) = 17.484802` whereas the correct aswer would be `19`. Note that this network has only been trained with 6 samples, so if you ask it to predict what should be the aswer to an input that is far away from the train set it will fail. To do so, the network should be trained with much more and much more diverse samples.\n",
    "\n",
    "To better understand the learning process we could display the loss as a function of the epoch number."
   ]
  },
  {
   "cell_type": "code",
   "execution_count": 6,
   "metadata": {},
   "outputs": [
    {
     "data": {
      "text/plain": [
       "[<matplotlib.lines.Line2D at 0x7efb70118590>]"
      ]
     },
     "execution_count": 6,
     "metadata": {},
     "output_type": "execute_result"
    },
    {
     "data": {
      "image/png": "[encoded data removed]",
      "text/plain": [
       "<Figure size 432x288 with 1 Axes>"
      ]
     },
     "metadata": {
      "needs_background": "light"
     },
     "output_type": "display_data"
    }
   ],
   "source": [
    "plt.xlabel('Epoch number')\n",
    "plt.ylabel('Loss function')\n",
    "\n",
    "plt.plot(training.history['loss'])"
   ]
  },
  {
   "cell_type": "markdown",
   "metadata": {},
   "source": [
    "On the other hand, we could look at the network weights by"
   ]
  },
  {
   "cell_type": "code",
   "execution_count": 7,
   "metadata": {},
   "outputs": [
    {
     "name": "stdout",
     "output_type": "stream",
     "text": [
      "The layer weights are: [array([[1.7804047]], dtype=float32), array([-0.31924355], dtype=float32)]\n"
     ]
    }
   ],
   "source": [
    "print(\"The layer weights are: {}\".format(network_struct.get_weights()))"
   ]
  },
  {
   "cell_type": "markdown",
   "metadata": {},
   "source": [
    "Let's practice with a more complete example:\n",
    "\n",
    "## 2. Classification of clothing images\n",
    "\n",
    "(needs TensorFlow at version 2.1.0, may be installed using `pip install tensorflow` and `pip install --upgrade tensorflow`)\n",
    "\n",
    "We are going to train a neural network model to classify images of clothing, like sneakers and shirts. To do so, we will use the [Fashion MNIST](https://github.com/zalandoresearch/fashion-mnist) dataset which contains 70,000 grayscale images in 10 categories. The images show individual articles of clothing at low resolution (28 by 28 pixels), as seen here:\n",
    "\n",
    "![mnist example](img/fashion-mnist-sprite.png)"
   ]
  },
  {
   "cell_type": "markdown",
   "metadata": {},
   "source": [
    "We will use 60,000 images to train the network and 10,000 images to evaluate how accurately the network learned to classify images. It is possible to access the Fashion MNIST directly from TensorFlow. To import and load the Fashion MNIST data directly from `TensorFlow` we could do the following:"
   ]
  },
  {
   "cell_type": "code",
   "execution_count": 8,
   "metadata": {},
   "outputs": [],
   "source": [
    "# import and save the dataset as a variable\n",
    "fashion_mnist = keras.datasets.fashion_mnist\n",
    "\n",
    "# load the images that will be used to train and test\n",
    "(train_images, train_labels), (test_images, test_labels) = fashion_mnist.load_data()"
   ]
  },
  {
   "cell_type": "markdown",
   "metadata": {},
   "source": [
    "Loading the dataset returns four NumPy arrays:\n",
    "\n",
    "* The `train_images` and `train_labels` arrays are the training set (the data that the model uses to learn).\n",
    "* The model is tested against the test set, the `test_images`, and `test_labels` arrays to check its accuracy.\n",
    "\n",
    "The images are 28x28 `NumPy` arrays, with pixel values ranging from 0 to 255 (grayscale). The labels are an array of integers, ranging from 0 to 9. These correspond to the class of clothing the image represents:\n",
    "\n",
    "**Label** | **Class**\n",
    "----------|-------------\n",
    "0         | T-shirt/top \n",
    "1         | Trouser\n",
    "2         | Pullover\n",
    "3         | Dress\n",
    "4         | Coat\n",
    "5         | Sandal\n",
    "6         | Shirt\n",
    "7         | Sneaker\n",
    "8         | Bag\n",
    "9         | Ankle Boot\n",
    "\n",
    "Each image is mapped to a single label. Since the class names are not included with the dataset, we store them ina list to use later when plotting the images:"
   ]
  },
  {
   "cell_type": "code",
   "execution_count": 9,
   "metadata": {},
   "outputs": [],
   "source": [
    "class_names = ['T-shirt/top', 'Trouser', 'Pullover', 'Dress', 'Coat','Sandal', 'Shirt', 'Sneaker',\\\n",
    "               'Bag', 'Ankle boot']"
   ]
  },
  {
   "cell_type": "markdown",
   "metadata": {},
   "source": [
    "### 2.1. Exploring the data\n",
    "\n",
    "Before training the model it is important to know the format of the dataset and to ensure that every element has the same. To know the size and shape of the dataset's elements:"
   ]
  },
  {
   "cell_type": "code",
   "execution_count": 10,
   "metadata": {},
   "outputs": [
    {
     "name": "stdout",
     "output_type": "stream",
     "text": [
      "The train dataset contains 60000 images, each stored as a 28x28 numpy array.\n"
     ]
    }
   ],
   "source": [
    "train_shape = train_images.shape\n",
    "print(\"The train dataset contains {} images, each stored as a {}x{} numpy array.\"\\\n",
    "      .format(*train_shape)) # *array unpacks the array, so if array = [a,b,c]; *array = a,b,c"
   ]
  },
  {
   "cell_type": "markdown",
   "metadata": {},
   "source": [
    "And for the labels:"
   ]
  },
  {
   "cell_type": "code",
   "execution_count": 11,
   "metadata": {},
   "outputs": [
    {
     "name": "stdout",
     "output_type": "stream",
     "text": [
      "The train dataset contains 60000 labels and each one is an integer between 0 and 9: [9 0 0 ... 3 0 5].\n"
     ]
    }
   ],
   "source": [
    "print(\"The train dataset contains {} labels and each one is an integer between 0 and 9: {}.\"\\\n",
    "      .format(len(train_labels), train_labels))"
   ]
  },
  {
   "cell_type": "markdown",
   "metadata": {},
   "source": [
    "We could do the same for the test set and ensure that both sets have the same format."
   ]
  },
  {
   "cell_type": "code",
   "execution_count": 12,
   "metadata": {},
   "outputs": [
    {
     "name": "stdout",
     "output_type": "stream",
     "text": [
      "The test dataset contains 10000 images, each stored as a 28x28 numpy array.\n",
      "\n",
      "The test dataset contains 10000 labels and each one is an integer between 0 and 9: [9 2 1 ... 8 1 5].\n"
     ]
    }
   ],
   "source": [
    "test_shape = test_images.shape\n",
    "print(\"The test dataset contains {} images, each stored as a {}x{} numpy array.\\n\"\\\n",
    "      .format(*test_shape)) # *array unpacks the array, so if array = [a,b,c]; *array = a,b,c\n",
    "\n",
    "print(\"The test dataset contains {} labels and each one is an integer between 0 and 9: {}.\"\\\n",
    "      .format(len(test_labels), test_labels))"
   ]
  },
  {
   "cell_type": "markdown",
   "metadata": {},
   "source": [
    "### 2.2. Data preprocessing\n",
    "\n",
    "The data must be preprocessed before training the network. The first step will be data normalization: the images of this dataset have pixels (elements in its matrix) that range from 0 to 255. To feeding the neural network we have to scale this values to a range of 0 to 1."
   ]
  },
  {
   "cell_type": "code",
   "execution_count": 13,
   "metadata": {},
   "outputs": [],
   "source": [
    "# Normalization\n",
    "\n",
    "train_images = train_images/255.0\n",
    "test_images = test_images/255.0"
   ]
  },
  {
   "cell_type": "markdown",
   "metadata": {},
   "source": [
    "To verify that the data is in the correct format and that you're ready to build and train the network, let's display the first 25 images from the training set and display the class name below each image."
   ]
  },
  {
   "cell_type": "code",
   "execution_count": 14,
   "metadata": {
    "scrolled": true
   },
   "outputs": [
    {
     "data": {
      "image/png": "[encoded data removed]",
      "text/plain": [
       "<Figure size 720x720 with 25 Axes>"
      ]
     },
     "metadata": {},
     "output_type": "display_data"
    }
   ],
   "source": [
    "num_img = 25\n",
    "\n",
    "plt.figure(figsize = (10,10))\n",
    "for i in range(num_img):\n",
    "    plt.subplot(5,5,i+1)\n",
    "    plt.xticks([])\n",
    "    plt.yticks([])\n",
    "    plt.grid(False)\n",
    "    plt.imshow(train_images[i], cmap=plt.cm.binary)\n",
    "    plt.xlabel(class_names[train_labels[i]])\n",
    "plt.show()"
   ]
  },
  {
   "cell_type": "markdown",
   "metadata": {},
   "source": [
    "### 2.3. Building the model\n",
    "\n",
    "Building the neural network requires two setps: configuration of the layers of the model and compilation of the model.\n",
    "\n",
    "#### 2.3.1 Set up the layers\n",
    "\n",
    "The basic building block of a neural network is the *layer*. Layers extract representations from the data fed into them. Hopefully, these representations are meaningful for the problem at hand.\n",
    "\n",
    "There are a lot of different structures of layers, but the most simple and common approach in deep learning consists of chaining togheter simple layers. Most layers, such as `tf.keras.layers.Dense`, have parameters that are learned (or, in more rigorous words, optimized) during training."
   ]
  },
  {
   "cell_type": "code",
   "execution_count": 15,
   "metadata": {},
   "outputs": [],
   "source": [
    "model = keras.Sequential([\n",
    "    keras.layers.Flatten(input_shape=(train_shape[1],train_shape[2])),\n",
    "    keras.layers.Dense(128, activation = 'relu'),\n",
    "    keras.layers.Dense(10)\n",
    "])"
   ]
  },
  {
   "cell_type": "markdown",
   "metadata": {},
   "source": [
    "As could be seen, this modes has three layers:\n",
    "\n",
    "* The first layer, `keras.layers.Flatten`, transforms the format of the images from a two-dimensional array (of 28x28 pixels) to a one-dimensional array (of 28 * 28 = 784 pixels).This layer has no parameters to learn, it only reformats the data.\n",
    "<br><br>\n",
    "* After the pixels are flattened, the network consists of a sequence of two `keras.layers.Dense` layers. These are densely connected, or fully connected, neural layers (each node has edges to each other node of the layer). The first Dense layer has 128 nodes (or neurons). The second (and last) layer is a 10-node softmax layer that returns an array of 10 probability scores that sum to 1. Each node contains a score that indicates the probability that the current image belongs to one of the 10 classes.\n",
    "\n",
    "#### 2.3.2 Compiling the model\n",
    "\n",
    "Before the model is ready for training, it needs a few more settings. These are added during the model's compile step:\n",
    "\n",
    "* *Loss function:* measures how accurate the model is during training. You want to minimize this function to \"steer\" the model in the right direction.\n",
    "* *Optimizer:* This determines how the model is updated based on the data it sees and its loss function.\n",
    "* *Metrics:* Used to monitor the training and testing steps. The following example uses accuracy, the fraction of the images that are correctly classified."
   ]
  },
  {
   "cell_type": "code",
   "execution_count": 16,
   "metadata": {},
   "outputs": [],
   "source": [
    "model.compile(optimizer='adam',\n",
    "              loss=tf.keras.losses.SparseCategoricalCrossentropy(from_logits=True),\n",
    "              metrics=['accuracy'])"
   ]
  },
  {
   "cell_type": "markdown",
   "metadata": {},
   "source": [
    "### 2.4. Training the model\n",
    "\n",
    "Training the neural network model requires the following steps:\n",
    "\n",
    "1. Feed the training data to the model. In this example, the training data is in the `train_images` and `train_labels` arrays.\n",
    "2. The model \"learns\" to associate images and labels.\n",
    "3. You ask the model to make predictions about a test set—in this example, the `test_images` array.\n",
    "4. Verify that the predictions match the labels from the `test_labels` array.\n",
    "\n",
    "\n",
    "#### 2.4.1. Feed the model\n",
    "\n",
    "To start training, call the `model.fit method`, so called because it \"fits\" the model to the training data:"
   ]
  },
  {
   "cell_type": "code",
   "execution_count": 17,
   "metadata": {},
   "outputs": [
    {
     "name": "stdout",
     "output_type": "stream",
     "text": [
      "Train on 60000 samples\n",
      "Epoch 1/10\n",
      "60000/60000 [==============================] - 3s 49us/sample - loss: 0.4995 - accuracy: 0.8241\n",
      "Epoch 2/10\n",
      "60000/60000 [==============================] - 3s 43us/sample - loss: 0.3765 - accuracy: 0.8647\n",
      "Epoch 3/10\n",
      "60000/60000 [==============================] - 3s 44us/sample - loss: 0.3398 - accuracy: 0.8767\n",
      "Epoch 4/10\n",
      "60000/60000 [==============================] - 3s 44us/sample - loss: 0.3139 - accuracy: 0.8856\n",
      "Epoch 5/10\n",
      "60000/60000 [==============================] - 3s 44us/sample - loss: 0.2947 - accuracy: 0.8924\n",
      "Epoch 6/10\n",
      "60000/60000 [==============================] - 3s 44us/sample - loss: 0.2794 - accuracy: 0.8955\n",
      "Epoch 7/10\n",
      "60000/60000 [==============================] - 3s 44us/sample - loss: 0.2688 - accuracy: 0.8996\n",
      "Epoch 8/10\n",
      "60000/60000 [==============================] - 3s 44us/sample - loss: 0.2562 - accuracy: 0.9056\n",
      "Epoch 9/10\n",
      "60000/60000 [==============================] - 3s 44us/sample - loss: 0.2474 - accuracy: 0.9083\n",
      "Epoch 10/10\n",
      "60000/60000 [==============================] - 3s 46us/sample - loss: 0.2397 - accuracy: 0.9108\n"
     ]
    },
    {
     "data": {
      "text/plain": [
       "<tensorflow.python.keras.callbacks.History at 0x7efb682e9e50>"
      ]
     },
     "execution_count": 17,
     "metadata": {},
     "output_type": "execute_result"
    }
   ],
   "source": [
    "model.fit(train_images, train_labels, epochs=10)"
   ]
  },
  {
   "cell_type": "markdown",
   "metadata": {},
   "source": [
    "As the model trains, the loss and accuracy metrics are displayed. This model reaches an accuracy of about 0.9108 (or $\\approx$ 91%) on the training data. Now let's evaluate it.\n",
    "\n",
    "#### 2.4.2. Accuracy evaluation\n",
    "\n",
    "In this step we will compare how the model performs on the test dataset:"
   ]
  },
  {
   "cell_type": "code",
   "execution_count": 18,
   "metadata": {},
   "outputs": [
    {
     "name": "stdout",
     "output_type": "stream",
     "text": [
      "10000/10000 - 0s - loss: 0.3460 - accuracy: 0.8811\n",
      "\n",
      "Test accuracy:  0.8811\n"
     ]
    }
   ],
   "source": [
    "test_loss, test_acc = model.evaluate(test_images, test_labels, verbose=2)\n",
    "\n",
    "print(\"\\nTest accuracy: \", test_acc)"
   ]
  },
  {
   "cell_type": "markdown",
   "metadata": {},
   "source": [
    "As could be seen, the test accuracy is a little bit lower than the accuracy obtained with the training dataset. This gap between training and test accuracy represents *overfitting*. Overfitting happens when a machine learning model performs worse on new, previously unseen, inputs than on the training data. An overfitted model kind of \"memorizes\" the training data, so it generates a disminution in the accuracy with the testing data. Overfitting is an important problem to look for when designing and testing. For more information follow the next links:\n",
    "\n",
    "* [Overfitting (theoretical)](https://en.wikipedia.org/wiki/Overfitting)\n",
    "* [Demonstarte overfitting](https://www.tensorflow.org/tutorials/keras/overfit_and_underfit#demonstrate_overfitting)\n",
    "* [Strategies to prevent overfitting](https://www.tensorflow.org/tutorials/keras/overfit_and_underfit#strategies_to_prevent_overfitting)\n",
    "\n",
    "### 2.5. Making predictions\n",
    "\n",
    "With the model trained, you can use it to make predictions about some images. The model's linear outputs, *logits*. Attach a softmax layer to convert the logits to probabilities, which are easier to interpret.\n",
    "\n",
    "> **Logits:** The vector of raw (non-normalized) predictions that a classification model generates, which is ordinarily then passed to a normalization function. If the model is solving a multi-class classification problem, logits typically become an input to the softmax function. The softmax function then generates a vector of (normalized) probabilities with one value for each possible class."
   ]
  },
  {
   "cell_type": "code",
   "execution_count": 19,
   "metadata": {},
   "outputs": [],
   "source": [
    "probability_model = tf.keras.Sequential([model, tf.keras.layers.Softmax()])\n",
    "\n",
    "predictions = probability_model.predict(test_images)"
   ]
  },
  {
   "cell_type": "markdown",
   "metadata": {},
   "source": [
    "Here, the model has predicted the label for each image in the testing set. Let's take a look at the first prediction:"
   ]
  },
  {
   "cell_type": "code",
   "execution_count": 20,
   "metadata": {},
   "outputs": [
    {
     "data": {
      "text/plain": [
       "array([3.0881726e-08, 1.4263416e-08, 1.0950061e-08, 3.1947394e-08,\n",
       "       1.5604544e-09, 1.3043678e-04, 1.1855535e-06, 7.6209237e-03,\n",
       "       2.7568703e-08, 9.9224734e-01], dtype=float32)"
      ]
     },
     "execution_count": 20,
     "metadata": {},
     "output_type": "execute_result"
    }
   ],
   "source": [
    "predictions[0]"
   ]
  },
  {
   "cell_type": "markdown",
   "metadata": {},
   "source": [
    "A prediction is an array of 10 numbers. They represent the model's \"confidence\" that the image corresponds to each of the 10 different articles of clothing. You can see which label has the highest confidence value:"
   ]
  },
  {
   "cell_type": "code",
   "execution_count": 21,
   "metadata": {},
   "outputs": [
    {
     "name": "stdout",
     "output_type": "stream",
     "text": [
      "The maximum confidence (99.22%) is that the images is an Ankle boot,\n"
     ]
    }
   ],
   "source": [
    "print(\"The maximum confidence ({}%) is that the images is an {},\"\\\n",
    "      .format(round(np.max(predictions[0])*100,2),class_names[np.argmax(predictions[0])]))"
   ]
  },
  {
   "cell_type": "markdown",
   "metadata": {},
   "source": [
    "which is correct:"
   ]
  },
  {
   "cell_type": "code",
   "execution_count": 22,
   "metadata": {},
   "outputs": [
    {
     "name": "stdout",
     "output_type": "stream",
     "text": [
      "Corresponding label: Ankle boot\n"
     ]
    }
   ],
   "source": [
    "print(\"Corresponding label: {}\".format(class_names[test_labels[0]]))"
   ]
  },
  {
   "cell_type": "markdown",
   "metadata": {},
   "source": [
    "Graph this to look at the full set of 10 class predictions."
   ]
  },
  {
   "cell_type": "code",
   "execution_count": 23,
   "metadata": {},
   "outputs": [],
   "source": [
    "def plot_image(i, predictions_array, true_label, img):\n",
    "    predictions_array, true_label, img = predictions_array, true_label[i], img[i]\n",
    "    plt.grid(False)\n",
    "    plt.xticks([])\n",
    "    plt.yticks([])\n",
    "\n",
    "    plt.imshow(img, cmap=plt.cm.binary)\n",
    "\n",
    "    predicted_label = np.argmax(predictions_array)\n",
    "    if predicted_label == true_label:\n",
    "        color = 'blue'\n",
    "    else:\n",
    "        color = 'red'\n",
    "\n",
    "    plt.xlabel(\"{} {:2.0f}% ({})\".format(class_names[predicted_label],\n",
    "                                100*np.max(predictions_array),\n",
    "                                class_names[true_label]),\n",
    "                                color=color)\n",
    "\n",
    "def plot_value_array(i, predictions_array, true_label):\n",
    "    predictions_array, true_label = predictions_array, true_label[i]\n",
    "    plt.grid(False)\n",
    "    plt.xticks(range(10))\n",
    "    plt.yticks([])\n",
    "    thisplot = plt.bar(range(10), predictions_array, color=\"#777777\")\n",
    "    plt.ylim([0, 1])\n",
    "    predicted_label = np.argmax(predictions_array)\n",
    "\n",
    "    thisplot[predicted_label].set_color('red')\n",
    "    thisplot[true_label].set_color('blue')\n"
   ]
  },
  {
   "cell_type": "markdown",
   "metadata": {},
   "source": [
    "### 2.6 Plot and verify the predictions\n",
    "\n",
    "With the model trained, you can use it to make predictions about some images.\n",
    "\n",
    "Let's look at the 0th image, predictions, and prediction array. Correct prediction labels are blue and incorrect prediction labels are red. The number gives the percentage (out of 100) for the predicted label."
   ]
  },
  {
   "cell_type": "code",
   "execution_count": 24,
   "metadata": {},
   "outputs": [
    {
     "data": {
      "image/png": "[encoded data removed]",
      "text/plain": [
       "<Figure size 432x216 with 2 Axes>"
      ]
     },
     "metadata": {
      "needs_background": "light"
     },
     "output_type": "display_data"
    }
   ],
   "source": [
    "i = 0\n",
    "plt.figure(figsize=(6,3))\n",
    "plt.subplot(1,2,1)\n",
    "plot_image(i, predictions[i], test_labels, test_images)\n",
    "plt.subplot(1,2,2)\n",
    "plot_value_array(i, predictions[i],  test_labels)\n",
    "plt.show()"
   ]
  },
  {
   "cell_type": "markdown",
   "metadata": {},
   "source": [
    "Let's plot several images with their predictions. Note that the model can be wrong even when very confident."
   ]
  },
  {
   "cell_type": "code",
   "execution_count": 25,
   "metadata": {},
   "outputs": [
    {
     "data": {
      "image/png": "[encoded data removed]",
      "text/plain": [
       "<Figure size 864x720 with 30 Axes>"
      ]
     },
     "metadata": {
      "needs_background": "light"
     },
     "output_type": "display_data"
    }
   ],
   "source": [
    "# Plot the first X test images, their predicted labels, and the true labels.\n",
    "# Color correct predictions in blue and incorrect predictions in red.\n",
    "num_rows = 5\n",
    "num_cols = 3\n",
    "num_images = num_rows*num_cols\n",
    "plt.figure(figsize=(2*2*num_cols, 2*num_rows))\n",
    "for i in range(num_images):\n",
    "    plt.subplot(num_rows, 2*num_cols, 2*i+1)\n",
    "    plot_image(i, predictions[i], test_labels, test_images)\n",
    "    plt.subplot(num_rows, 2*num_cols, 2*i+2)\n",
    "    plot_value_array(i, predictions[i], test_labels)\n",
    "plt.tight_layout()\n",
    "plt.show()\n"
   ]
  },
  {
   "cell_type": "markdown",
   "metadata": {},
   "source": [
    "### 2.7. Use the trained model\n",
    "\n",
    "Finally, use the trained model to make a prediction about a single image."
   ]
  },
  {
   "cell_type": "code",
   "execution_count": 38,
   "metadata": {},
   "outputs": [
    {
     "name": "stdout",
     "output_type": "stream",
     "text": [
      "(28, 28)\n"
     ]
    }
   ],
   "source": [
    "# take an image from the dataset\n",
    "\n",
    "img = test_images[1]\n",
    "\n",
    "print(img.shape)"
   ]
  },
  {
   "cell_type": "markdown",
   "metadata": {},
   "source": [
    "`tf.keras` models are optimized to make predictions on a *batch*, or collection, of examples at once. Accordingly, even though you're using a single image, you need to add it to a list:"
   ]
  },
  {
   "cell_type": "code",
   "execution_count": 39,
   "metadata": {},
   "outputs": [
    {
     "name": "stdout",
     "output_type": "stream",
     "text": [
      "(1, 28, 28)\n"
     ]
    }
   ],
   "source": [
    "# Add the image to a batch where it's the only member.\n",
    "img = (np.expand_dims(img,0))\n",
    "\n",
    "print(img.shape)"
   ]
  },
  {
   "cell_type": "markdown",
   "metadata": {},
   "source": [
    "and predict the correct label for this image:"
   ]
  },
  {
   "cell_type": "code",
   "execution_count": 40,
   "metadata": {},
   "outputs": [
    {
     "data": {
      "image/png": "[encoded data removed]",
      "text/plain": [
       "<Figure size 432x288 with 1 Axes>"
      ]
     },
     "metadata": {
      "needs_background": "light"
     },
     "output_type": "display_data"
    }
   ],
   "source": [
    "predictions_single = probability_model.predict(img)\n",
    "\n",
    "plot_value_array(1, predictions_single[0], test_labels)\n",
    "_ = plt.xticks(range(10), class_names, rotation=45)"
   ]
  },
  {
   "cell_type": "markdown",
   "metadata": {},
   "source": [
    "`keras.Model.predict` returns a list of lists—one list for each image in the batch of data. Grab the predictions for our (only) image in the batch:"
   ]
  },
  {
   "cell_type": "code",
   "execution_count": 41,
   "metadata": {},
   "outputs": [
    {
     "data": {
      "text/plain": [
       "'Pullover'"
      ]
     },
     "execution_count": 41,
     "metadata": {},
     "output_type": "execute_result"
    }
   ],
   "source": [
    "class_names[np.argmax(predictions_single[0])\n",
    "]"
   ]
  },
  {
   "cell_type": "markdown",
   "metadata": {},
   "source": [
    "And the model predicts a label as expected."
   ]
  },
  {
   "cell_type": "markdown",
   "metadata": {},
   "source": [
    "#### Copyright of *Classification of clothing images*\n",
    "\n",
    "`MIT License`\n",
    "\n",
    "`Copyright (c) 2017 François Chollet`\n",
    "\n",
    "`Permission is hereby granted, free of charge, to any person obtaining a copy of this software and associated documentation files (the \"Software\"), to deal in the Software without restriction, including without limitation the rights to use, copy, modify, merge, publish, distribute, sublicense, and/or sell copies of the Software, and to permit persons to whom the Software is furnished to do so, subject to the following conditions:`\n",
    "\n",
    "`The above copyright notice and this permission notice shall be included in all copies or substantial portions of the Software.`\n",
    "\n",
    "`THE SOFTWARE IS PROVIDED \"AS IS\", WITHOUT WARRANTY OF ANY KIND, EXPRESS OR IMPLIED, INCLUDING BUT NOT LIMITED TO THE WARRANTIES OF MERCHANTABILITY, FITNESS FOR A PARTICULAR PURPOSE AND NONINFRINGEMENT. IN NO EVENT SHALL THE AUTHORS OR COPYRIGHT HOLDERS BE LIABLE FOR ANY CLAIM, DAMAGES OR OTHER LIABILITY, WHETHER IN AN ACTION OF CONTRACT, TORT OR OTHERWISE, ARISING FROM, OUT OF OR IN CONNECTION WITH THE SOFTWARE OR THE USE OR OTHER DEALINGS IN THE SOFTWARE.`"
   ]
  }
 ],
 "metadata": {
  "kernelspec": {
   "display_name": "Python 3",
   "language": "python",
   "name": "python3"
  },
  "language_info": {
   "codemirror_mode": {
    "name": "ipython",
    "version": 3
   },
   "file_extension": ".py",
   "mimetype": "text/x-python",
   "name": "python",
   "nbconvert_exporter": "python",
   "pygments_lexer": "ipython3",
   "version": "3.7.4"
  }
 },
 "nbformat": 4,
 "nbformat_minor": 2
}
